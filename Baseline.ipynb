{
 "cells": [
  {
   "cell_type": "markdown",
   "metadata": {},
   "source": [
    "## Load Data"
   ]
  },
  {
   "cell_type": "code",
   "execution_count": 37,
   "metadata": {},
   "outputs": [],
   "source": [
    "import os\n",
    "import numpy as np\n",
    "import csv\n",
    "import pandas as pd\n",
    "# Display progress logs on stdout\n",
    "import logging\n",
    "logging.basicConfig(level=logging.INFO, format='%(asctime)s %(message)s')\n",
    "\n",
    "def readLabelData(path):\n",
    "    fo = open(path, \"r\")\n",
    "    data = fo.readlines();\n",
    "    fo.close()\n",
    "    res = []\n",
    "    for x in data:\n",
    "        x = x.rstrip('\\n')\n",
    "        id, tweet = x.split('\\t')\n",
    "        res.append([int(id), tweet])\n",
    "    return res\n",
    "\n",
    "def readTweets(path):\n",
    "    fo = open(path, \"r\")\n",
    "    data = fo.readlines();\n",
    "    fo.close()\n",
    "    res = []\n",
    "    for x in data:\n",
    "        x = x.rstrip('\\n')\n",
    "        res.append(x)\n",
    "    return res"
   ]
  },
  {
   "cell_type": "code",
   "execution_count": 38,
   "metadata": {},
   "outputs": [
    {
     "name": "stdout",
     "output_type": "stream",
     "text": [
      "32977\n",
      "32977\n"
     ]
    }
   ],
   "source": [
    "f = open(\"data/tweets/test_tweets.txt\",\"rb\")\n",
    "test_tweets = []\n",
    "while True:\n",
    "    line = f.readline()\n",
    "    if not line:\n",
    "        break\n",
    "    else:\n",
    "        try:\n",
    "            #print(line.decode('utf8'))\n",
    "            test_tweets.append(line.decode('utf8'))\n",
    "            #为了暴露出错误，最好此处不print\n",
    "        except:\n",
    "#             continue\n",
    "            test_tweets.append(\"47,USER_d12c6a27,\\\"@USER_a23336a5 hey. How's the day off going?\\\",?\")\n",
    "#             print(str(line))\n",
    "f.close()\n",
    "print(len(test_tweets))\n",
    "for i in range(len(test_tweets)):\n",
    "    temp1 = test_tweets[i].strip().split('\"')\n",
    "    temp2 = temp1[0].split(',')\n",
    "    temp3 = temp1[-1].strip(',')\n",
    "    temp4 = temp1[1:-1]\n",
    "    temp5 = \" \".join(x for x in temp4)\n",
    "    test_tweets[i] = [temp2[0], temp2[1], temp5, temp3]\n",
    "print(len(test_tweets))"
   ]
  },
  {
   "cell_type": "code",
   "execution_count": 39,
   "metadata": {},
   "outputs": [
    {
     "data": {
      "text/html": [
       "<div>\n",
       "<style scoped>\n",
       "    .dataframe tbody tr th:only-of-type {\n",
       "        vertical-align: middle;\n",
       "    }\n",
       "\n",
       "    .dataframe tbody tr th {\n",
       "        vertical-align: top;\n",
       "    }\n",
       "\n",
       "    .dataframe thead th {\n",
       "        text-align: right;\n",
       "    }\n",
       "</style>\n",
       "<table border=\"1\" class=\"dataframe\">\n",
       "  <thead>\n",
       "    <tr style=\"text-align: right;\">\n",
       "      <th></th>\n",
       "      <th>tweet-id</th>\n",
       "      <th>user-id</th>\n",
       "      <th>tweet</th>\n",
       "      <th>class</th>\n",
       "    </tr>\n",
       "  </thead>\n",
       "  <tbody>\n",
       "    <tr>\n",
       "      <th>0</th>\n",
       "      <td>32</td>\n",
       "      <td>USER_d12c6a27</td>\n",
       "      <td>Who died Lee? You. Detective U? No, not u, u. ...</td>\n",
       "      <td>?</td>\n",
       "    </tr>\n",
       "    <tr>\n",
       "      <th>1</th>\n",
       "      <td>33</td>\n",
       "      <td>USER_d12c6a27</td>\n",
       "      <td>R u o k?.........yea, I slipped &amp; I fell.....a...</td>\n",
       "      <td>?</td>\n",
       "    </tr>\n",
       "    <tr>\n",
       "      <th>2</th>\n",
       "      <td>34</td>\n",
       "      <td>USER_d12c6a27</td>\n",
       "      <td>So cold</td>\n",
       "      <td>?</td>\n",
       "    </tr>\n",
       "    <tr>\n",
       "      <th>3</th>\n",
       "      <td>35</td>\n",
       "      <td>USER_d12c6a27</td>\n",
       "      <td>@USER_f7fb01ae-Oh. I was thinking bout the Cha...</td>\n",
       "      <td>?</td>\n",
       "    </tr>\n",
       "    <tr>\n",
       "      <th>4</th>\n",
       "      <td>36</td>\n",
       "      <td>USER_d12c6a27</td>\n",
       "      <td>Listening II Ego-Trey Songz</td>\n",
       "      <td>?</td>\n",
       "    </tr>\n",
       "  </tbody>\n",
       "</table>\n",
       "</div>"
      ],
      "text/plain": [
       "  tweet-id        user-id                                              tweet  \\\n",
       "0       32  USER_d12c6a27  Who died Lee? You. Detective U? No, not u, u. ...   \n",
       "1       33  USER_d12c6a27  R u o k?.........yea, I slipped & I fell.....a...   \n",
       "2       34  USER_d12c6a27                                            So cold   \n",
       "3       35  USER_d12c6a27  @USER_f7fb01ae-Oh. I was thinking bout the Cha...   \n",
       "4       36  USER_d12c6a27                        Listening II Ego-Trey Songz   \n",
       "\n",
       "  class  \n",
       "0     ?  \n",
       "1     ?  \n",
       "2     ?  \n",
       "3     ?  \n",
       "4     ?  "
      ]
     },
     "execution_count": 39,
     "metadata": {},
     "output_type": "execute_result"
    }
   ],
   "source": [
    "import pandas as pd\n",
    "df_test = pd.DataFrame(test_tweets)\n",
    "df_test.columns = ['tweet-id', 'user-id', 'tweet', 'class']\n",
    "df_test[['tweet']].to_csv('out_test.txt', index=False, header=False, sep='\\t')\n",
    "df_test.head()"
   ]
  },
  {
   "cell_type": "code",
   "execution_count": 40,
   "metadata": {},
   "outputs": [],
   "source": [
    "df_test[['tweet-id']].to_csv('out_test_id.txt', index=False, header=False, sep='\\t')"
   ]
  },
  {
   "cell_type": "markdown",
   "metadata": {},
   "source": [
    "### Load Train"
   ]
  },
  {
   "cell_type": "code",
   "execution_count": 41,
   "metadata": {},
   "outputs": [],
   "source": [
    "f = open(\"data/tweets/train_tweets.txt\",\"rb\")\n",
    "train_tweets = []\n",
    "while True:\n",
    "    line = f.readline()\n",
    "    if not line:\n",
    "        break\n",
    "    else:\n",
    "        try:\n",
    "            #print(line.decode('utf8'))\n",
    "            train_tweets.append(line.decode('utf8'))\n",
    "            #为了暴露出错误，最好此处不print\n",
    "        except:\n",
    "            continue\n",
    "#             print(str(line))\n",
    "f.close()"
   ]
  },
  {
   "cell_type": "code",
   "execution_count": 42,
   "metadata": {},
   "outputs": [
    {
     "data": {
      "text/plain": [
       "96514"
      ]
     },
     "execution_count": 42,
     "metadata": {},
     "output_type": "execute_result"
    }
   ],
   "source": [
    "len(train_tweets)"
   ]
  },
  {
   "cell_type": "markdown",
   "metadata": {},
   "source": [
    "### Load Dev"
   ]
  },
  {
   "cell_type": "code",
   "execution_count": 43,
   "metadata": {},
   "outputs": [],
   "source": [
    "f = open(\"data/tweets/dev_tweets.txt\",\"rb\")\n",
    "dev_tweets = []\n",
    "while True:\n",
    "    line = f.readline()\n",
    "    if not line:\n",
    "        break\n",
    "    else:\n",
    "        try:\n",
    "            #print(line.decode('utf8'))\n",
    "            dev_tweets.append(line.decode('utf8'))\n",
    "            #为了暴露出错误，最好此处不print\n",
    "        except:\n",
    "            continue\n",
    "#             print(str(line))\n",
    "f.close()"
   ]
  },
  {
   "cell_type": "code",
   "execution_count": 44,
   "metadata": {
    "scrolled": true
   },
   "outputs": [
    {
     "data": {
      "text/plain": [
       "34012"
      ]
     },
     "execution_count": 44,
     "metadata": {},
     "output_type": "execute_result"
    }
   ],
   "source": [
    "len(dev_tweets)"
   ]
  },
  {
   "cell_type": "markdown",
   "metadata": {},
   "source": [
    "### Load Test"
   ]
  },
  {
   "cell_type": "code",
   "execution_count": 45,
   "metadata": {},
   "outputs": [],
   "source": [
    "f = open(\"data/tweets/test_tweets.txt\",\"rb\")\n",
    "test_tweets = []\n",
    "while True:\n",
    "    line = f.readline()\n",
    "    if not line:\n",
    "        break\n",
    "    else:\n",
    "        try:\n",
    "            #print(line.decode('utf8'))\n",
    "            test_tweets.append(line.decode('utf8'))\n",
    "            #为了暴露出错误，最好此处不print\n",
    "        except:\n",
    "            continue\n",
    "#             print(str(line))\n",
    "f.close()"
   ]
  },
  {
   "cell_type": "code",
   "execution_count": 46,
   "metadata": {},
   "outputs": [
    {
     "data": {
      "text/plain": [
       "32968"
      ]
     },
     "execution_count": 46,
     "metadata": {},
     "output_type": "execute_result"
    }
   ],
   "source": [
    "len(test_tweets)"
   ]
  },
  {
   "cell_type": "code",
   "execution_count": 47,
   "metadata": {},
   "outputs": [
    {
     "data": {
      "text/plain": [
       "130526"
      ]
     },
     "execution_count": 47,
     "metadata": {},
     "output_type": "execute_result"
    }
   ],
   "source": [
    "myTrain = train_tweets + dev_tweets\n",
    "for i in range(len(myTrain)):\n",
    "    temp1 = myTrain[i].strip().split('\"')\n",
    "    temp2 = temp1[0].split(',')\n",
    "    temp3 = temp1[-1].strip(',')\n",
    "    temp4 = temp1[1:-1]\n",
    "    temp5 = \" \".join(x for x in temp4)\n",
    "    myTrain[i] = [temp2[0], temp2[1], temp5, temp3]\n",
    "len(myTrain)"
   ]
  },
  {
   "cell_type": "code",
   "execution_count": 48,
   "metadata": {},
   "outputs": [
    {
     "data": {
      "text/html": [
       "<div>\n",
       "<style scoped>\n",
       "    .dataframe tbody tr th:only-of-type {\n",
       "        vertical-align: middle;\n",
       "    }\n",
       "\n",
       "    .dataframe tbody tr th {\n",
       "        vertical-align: top;\n",
       "    }\n",
       "\n",
       "    .dataframe thead th {\n",
       "        text-align: right;\n",
       "    }\n",
       "</style>\n",
       "<table border=\"1\" class=\"dataframe\">\n",
       "  <thead>\n",
       "    <tr style=\"text-align: right;\">\n",
       "      <th></th>\n",
       "      <th>tweet-id</th>\n",
       "      <th>user-id</th>\n",
       "      <th>tweet</th>\n",
       "      <th>class</th>\n",
       "    </tr>\n",
       "  </thead>\n",
       "  <tbody>\n",
       "    <tr>\n",
       "      <th>0</th>\n",
       "      <td>110</td>\n",
       "      <td>USER_ce270acf</td>\n",
       "      <td>Forget ma stoopiid friiends!!!</td>\n",
       "      <td>NewYork</td>\n",
       "    </tr>\n",
       "    <tr>\n",
       "      <th>1</th>\n",
       "      <td>111</td>\n",
       "      <td>USER_ce270acf</td>\n",
       "      <td>@USER_00791b0d nuttiin much_how bout u!</td>\n",
       "      <td>NewYork</td>\n",
       "    </tr>\n",
       "    <tr>\n",
       "      <th>2</th>\n",
       "      <td>112</td>\n",
       "      <td>USER_ce270acf</td>\n",
       "      <td>RT @USER_00791b0d: RT @USER_ce270acf: @USER_00...</td>\n",
       "      <td>NewYork</td>\n",
       "    </tr>\n",
       "    <tr>\n",
       "      <th>3</th>\n",
       "      <td>113</td>\n",
       "      <td>USER_ce270acf</td>\n",
       "      <td>@USER_e870cfe3 umm its souljawfy</td>\n",
       "      <td>NewYork</td>\n",
       "    </tr>\n",
       "    <tr>\n",
       "      <th>4</th>\n",
       "      <td>114</td>\n",
       "      <td>USER_ce270acf</td>\n",
       "      <td>Smt mommy hurry manqqs :(</td>\n",
       "      <td>NewYork</td>\n",
       "    </tr>\n",
       "  </tbody>\n",
       "</table>\n",
       "</div>"
      ],
      "text/plain": [
       "  tweet-id        user-id                                              tweet  \\\n",
       "0      110  USER_ce270acf                     Forget ma stoopiid friiends!!!   \n",
       "1      111  USER_ce270acf            @USER_00791b0d nuttiin much_how bout u!   \n",
       "2      112  USER_ce270acf  RT @USER_00791b0d: RT @USER_ce270acf: @USER_00...   \n",
       "3      113  USER_ce270acf                   @USER_e870cfe3 umm its souljawfy   \n",
       "4      114  USER_ce270acf                          Smt mommy hurry manqqs :(   \n",
       "\n",
       "     class  \n",
       "0  NewYork  \n",
       "1  NewYork  \n",
       "2  NewYork  \n",
       "3  NewYork  \n",
       "4  NewYork  "
      ]
     },
     "execution_count": 48,
     "metadata": {},
     "output_type": "execute_result"
    }
   ],
   "source": [
    "df = pd.DataFrame(myTrain)\n",
    "df.columns = ['tweet-id', 'user-id', 'tweet', 'class']\n",
    "df[['class', 'tweet']].to_csv('out.txt', index=False, header=False, sep='\\t')\n",
    "df.head()"
   ]
  },
  {
   "cell_type": "code",
   "execution_count": 49,
   "metadata": {},
   "outputs": [],
   "source": [
    "from nltk.corpus import stopwords\n",
    "from textblob import Word\n",
    "\n",
    "def Preprocess(train):\n",
    "    train['tweet'] = train['tweet'].str.replace('@[\\w]*', '')\n",
    "    train['tweet'] = train['tweet'].apply(lambda x: \" \".join(x.lower() for x in x.split()))\n",
    "    train['tweet'] = train['tweet'].str.replace('[^\\w\\s]','')\n",
    "    stop = stopwords.words('english')\n",
    "    train['tweet'] = train['tweet'].apply(lambda x: \" \".join(x for x in x.split() if x not in stop))\n",
    "    train['tweet'] = train['tweet'].apply(lambda x: \" \".join([Word(word).lemmatize() for word in x.split()]))\n",
    "    "
   ]
  },
  {
   "cell_type": "code",
   "execution_count": 50,
   "metadata": {
    "scrolled": true
   },
   "outputs": [
    {
     "data": {
      "text/html": [
       "<div>\n",
       "<style scoped>\n",
       "    .dataframe tbody tr th:only-of-type {\n",
       "        vertical-align: middle;\n",
       "    }\n",
       "\n",
       "    .dataframe tbody tr th {\n",
       "        vertical-align: top;\n",
       "    }\n",
       "\n",
       "    .dataframe thead th {\n",
       "        text-align: right;\n",
       "    }\n",
       "</style>\n",
       "<table border=\"1\" class=\"dataframe\">\n",
       "  <thead>\n",
       "    <tr style=\"text-align: right;\">\n",
       "      <th></th>\n",
       "      <th>tweet-id</th>\n",
       "      <th>user-id</th>\n",
       "      <th>tweet</th>\n",
       "      <th>class</th>\n",
       "    </tr>\n",
       "  </thead>\n",
       "  <tbody>\n",
       "    <tr>\n",
       "      <th>0</th>\n",
       "      <td>110</td>\n",
       "      <td>USER_ce270acf</td>\n",
       "      <td>forget stoopiid friiends</td>\n",
       "      <td>NewYork</td>\n",
       "    </tr>\n",
       "    <tr>\n",
       "      <th>1</th>\n",
       "      <td>111</td>\n",
       "      <td>USER_ce270acf</td>\n",
       "      <td>nuttiin much_how bout u</td>\n",
       "      <td>NewYork</td>\n",
       "    </tr>\n",
       "    <tr>\n",
       "      <th>2</th>\n",
       "      <td>112</td>\n",
       "      <td>USER_ce270acf</td>\n",
       "      <td>rt rt iigthy uu neiither lol iwont kewls</td>\n",
       "      <td>NewYork</td>\n",
       "    </tr>\n",
       "    <tr>\n",
       "      <th>3</th>\n",
       "      <td>113</td>\n",
       "      <td>USER_ce270acf</td>\n",
       "      <td>umm souljawfy</td>\n",
       "      <td>NewYork</td>\n",
       "    </tr>\n",
       "    <tr>\n",
       "      <th>4</th>\n",
       "      <td>114</td>\n",
       "      <td>USER_ce270acf</td>\n",
       "      <td>smt mommy hurry manqqs</td>\n",
       "      <td>NewYork</td>\n",
       "    </tr>\n",
       "  </tbody>\n",
       "</table>\n",
       "</div>"
      ],
      "text/plain": [
       "  tweet-id        user-id                                     tweet    class\n",
       "0      110  USER_ce270acf                  forget stoopiid friiends  NewYork\n",
       "1      111  USER_ce270acf                   nuttiin much_how bout u  NewYork\n",
       "2      112  USER_ce270acf  rt rt iigthy uu neiither lol iwont kewls  NewYork\n",
       "3      113  USER_ce270acf                             umm souljawfy  NewYork\n",
       "4      114  USER_ce270acf                    smt mommy hurry manqqs  NewYork"
      ]
     },
     "execution_count": 50,
     "metadata": {},
     "output_type": "execute_result"
    }
   ],
   "source": [
    "Preprocess(df)\n",
    "df.head()"
   ]
  },
  {
   "cell_type": "code",
   "execution_count": 51,
   "metadata": {},
   "outputs": [],
   "source": [
    "freq = pd.Series(' '.join(df['tweet']).split()).value_counts()"
   ]
  },
  {
   "cell_type": "code",
   "execution_count": 52,
   "metadata": {},
   "outputs": [],
   "source": [
    "from textblob import TextBlob\n",
    "#NewYork, California, Georgia, total\n",
    "wordCount = [0, 0, 0, 0]\n",
    "for index, row in df.iterrows():\n",
    "    tokens = TextBlob(row['tweet']).words\n",
    "    class_index = -1\n",
    "    if (row['class'] == \"NewYork\"): \n",
    "        class_index = 0\n",
    "    elif (row['class'] == \"California\"):\n",
    "        class_index = 1\n",
    "    elif (row['class'] == \"Georgia\"): \n",
    "        class_index = 2\n",
    "    else:\n",
    "        print(row['class'])\n",
    "    for token in tokens:\n",
    "        wordCount[class_index] += 1\n",
    "        wordCount[3] += 1"
   ]
  },
  {
   "cell_type": "code",
   "execution_count": 53,
   "metadata": {},
   "outputs": [
    {
     "data": {
      "text/plain": [
       "[561461, 187021, 140851, 889333]"
      ]
     },
     "execution_count": 53,
     "metadata": {},
     "output_type": "execute_result"
    }
   ],
   "source": [
    "wordCount"
   ]
  },
  {
   "cell_type": "code",
   "execution_count": 54,
   "metadata": {},
   "outputs": [],
   "source": [
    "dictWithFreq = {}\n",
    "\n",
    "for index, row in df.iterrows():\n",
    "    tokens = TextBlob(row['tweet']).words\n",
    "    class_index = -1\n",
    "    if (row['class'] == \"NewYork\"): \n",
    "        class_index = 0\n",
    "    elif (row['class'] == \"California\"):\n",
    "        class_index = 1\n",
    "    elif (row['class'] == \"Georgia\"): \n",
    "        class_index = 2\n",
    "    else:\n",
    "        print(row['class'])\n",
    "    for token in tokens:\n",
    "        if (token in dictWithFreq): \n",
    "            dictWithFreq[token][class_index] += 1 \n",
    "            dictWithFreq[token][3] +=1\n",
    "        else :\n",
    "            dictWithFreq[token] = [0, 0, 0, 0]\n",
    "            dictWithFreq[token][class_index] +=1\n",
    "            dictWithFreq[token][3] +=1\n",
    "            "
   ]
  },
  {
   "cell_type": "code",
   "execution_count": 55,
   "metadata": {},
   "outputs": [
    {
     "data": {
      "text/plain": [
       "rt      28120\n",
       "u       21764\n",
       "lol     20165\n",
       "im      13992\n",
       "like     7412\n",
       "dtype: int64"
      ]
     },
     "execution_count": 55,
     "metadata": {},
     "output_type": "execute_result"
    }
   ],
   "source": [
    "freq.head()"
   ]
  },
  {
   "cell_type": "code",
   "execution_count": 56,
   "metadata": {},
   "outputs": [
    {
     "data": {
      "text/plain": [
       "[18919, 4949, 4256, 28124]"
      ]
     },
     "execution_count": 56,
     "metadata": {},
     "output_type": "execute_result"
    }
   ],
   "source": [
    "dictWithFreq['rt']"
   ]
  },
  {
   "cell_type": "code",
   "execution_count": 57,
   "metadata": {},
   "outputs": [
    {
     "data": {
      "text/html": [
       "<div>\n",
       "<style scoped>\n",
       "    .dataframe tbody tr th:only-of-type {\n",
       "        vertical-align: middle;\n",
       "    }\n",
       "\n",
       "    .dataframe tbody tr th {\n",
       "        vertical-align: top;\n",
       "    }\n",
       "\n",
       "    .dataframe thead th {\n",
       "        text-align: right;\n",
       "    }\n",
       "</style>\n",
       "<table border=\"1\" class=\"dataframe\">\n",
       "  <thead>\n",
       "    <tr style=\"text-align: right;\">\n",
       "      <th></th>\n",
       "      <th>tweet-id</th>\n",
       "      <th>user-id</th>\n",
       "      <th>tweet</th>\n",
       "      <th>class</th>\n",
       "    </tr>\n",
       "  </thead>\n",
       "  <tbody>\n",
       "    <tr>\n",
       "      <th>0</th>\n",
       "      <td>110</td>\n",
       "      <td>USER_ce270acf</td>\n",
       "      <td>forget stoopiid friiends</td>\n",
       "      <td>NewYork</td>\n",
       "    </tr>\n",
       "    <tr>\n",
       "      <th>1</th>\n",
       "      <td>111</td>\n",
       "      <td>USER_ce270acf</td>\n",
       "      <td>nuttiin much_how bout u</td>\n",
       "      <td>NewYork</td>\n",
       "    </tr>\n",
       "    <tr>\n",
       "      <th>2</th>\n",
       "      <td>112</td>\n",
       "      <td>USER_ce270acf</td>\n",
       "      <td>rt rt iigthy uu neiither lol iwont kewls</td>\n",
       "      <td>NewYork</td>\n",
       "    </tr>\n",
       "    <tr>\n",
       "      <th>3</th>\n",
       "      <td>113</td>\n",
       "      <td>USER_ce270acf</td>\n",
       "      <td>umm souljawfy</td>\n",
       "      <td>NewYork</td>\n",
       "    </tr>\n",
       "    <tr>\n",
       "      <th>4</th>\n",
       "      <td>114</td>\n",
       "      <td>USER_ce270acf</td>\n",
       "      <td>smt mommy hurry manqqs</td>\n",
       "      <td>NewYork</td>\n",
       "    </tr>\n",
       "  </tbody>\n",
       "</table>\n",
       "</div>"
      ],
      "text/plain": [
       "  tweet-id        user-id                                     tweet    class\n",
       "0      110  USER_ce270acf                  forget stoopiid friiends  NewYork\n",
       "1      111  USER_ce270acf                   nuttiin much_how bout u  NewYork\n",
       "2      112  USER_ce270acf  rt rt iigthy uu neiither lol iwont kewls  NewYork\n",
       "3      113  USER_ce270acf                             umm souljawfy  NewYork\n",
       "4      114  USER_ce270acf                    smt mommy hurry manqqs  NewYork"
      ]
     },
     "execution_count": 57,
     "metadata": {},
     "output_type": "execute_result"
    }
   ],
   "source": [
    "df.head()"
   ]
  },
  {
   "cell_type": "code",
   "execution_count": 58,
   "metadata": {},
   "outputs": [],
   "source": [
    "pNewYork = []\n",
    "pCalifornia = []\n",
    "pGeorgia = []\n",
    "\n",
    "for index, row in df.iterrows():\n",
    "    tokens = TextBlob(row['tweet']).words\n",
    "    pNewYork.append(0)\n",
    "    pCalifornia.append(0)\n",
    "    pGeorgia.append(0)\n",
    "    for token in tokens:\n",
    "        if (token in dictWithFreq):\n",
    "            if (dictWithFreq[token][3] < 50): continue\n",
    "            # p(city|tweet) = p(city|word) * p(word)\n",
    "            pNewYork[-1] += (dictWithFreq[token][0] / wordCount[3])\n",
    "            pCalifornia[-1] += (dictWithFreq[token][1] / wordCount[3])\n",
    "            pGeorgia[-1] += (dictWithFreq[token][2] / wordCount[3]) "
   ]
  },
  {
   "cell_type": "code",
   "execution_count": 59,
   "metadata": {
    "scrolled": true
   },
   "outputs": [
    {
     "data": {
      "text/html": [
       "<div>\n",
       "<style scoped>\n",
       "    .dataframe tbody tr th:only-of-type {\n",
       "        vertical-align: middle;\n",
       "    }\n",
       "\n",
       "    .dataframe tbody tr th {\n",
       "        vertical-align: top;\n",
       "    }\n",
       "\n",
       "    .dataframe thead th {\n",
       "        text-align: right;\n",
       "    }\n",
       "</style>\n",
       "<table border=\"1\" class=\"dataframe\">\n",
       "  <thead>\n",
       "    <tr style=\"text-align: right;\">\n",
       "      <th></th>\n",
       "      <th>tweet-id</th>\n",
       "      <th>user-id</th>\n",
       "      <th>tweet</th>\n",
       "      <th>class</th>\n",
       "      <th>pNewYork</th>\n",
       "      <th>pCalifornia</th>\n",
       "      <th>pGeorgia</th>\n",
       "    </tr>\n",
       "  </thead>\n",
       "  <tbody>\n",
       "    <tr>\n",
       "      <th>0</th>\n",
       "      <td>110</td>\n",
       "      <td>USER_ce270acf</td>\n",
       "      <td>forget stoopiid friiends</td>\n",
       "      <td>NewYork</td>\n",
       "      <td>0.000155</td>\n",
       "      <td>0.000065</td>\n",
       "      <td>0.000038</td>\n",
       "    </tr>\n",
       "    <tr>\n",
       "      <th>1</th>\n",
       "      <td>111</td>\n",
       "      <td>USER_ce270acf</td>\n",
       "      <td>nuttiin much_how bout u</td>\n",
       "      <td>NewYork</td>\n",
       "      <td>0.018180</td>\n",
       "      <td>0.004764</td>\n",
       "      <td>0.003902</td>\n",
       "    </tr>\n",
       "    <tr>\n",
       "      <th>2</th>\n",
       "      <td>112</td>\n",
       "      <td>USER_ce270acf</td>\n",
       "      <td>rt rt iigthy uu neiither lol iwont kewls</td>\n",
       "      <td>NewYork</td>\n",
       "      <td>0.057124</td>\n",
       "      <td>0.015859</td>\n",
       "      <td>0.013325</td>\n",
       "    </tr>\n",
       "    <tr>\n",
       "      <th>3</th>\n",
       "      <td>113</td>\n",
       "      <td>USER_ce270acf</td>\n",
       "      <td>umm souljawfy</td>\n",
       "      <td>NewYork</td>\n",
       "      <td>0.000134</td>\n",
       "      <td>0.000045</td>\n",
       "      <td>0.000027</td>\n",
       "    </tr>\n",
       "    <tr>\n",
       "      <th>4</th>\n",
       "      <td>114</td>\n",
       "      <td>USER_ce270acf</td>\n",
       "      <td>smt mommy hurry manqqs</td>\n",
       "      <td>NewYork</td>\n",
       "      <td>0.000188</td>\n",
       "      <td>0.000042</td>\n",
       "      <td>0.000038</td>\n",
       "    </tr>\n",
       "  </tbody>\n",
       "</table>\n",
       "</div>"
      ],
      "text/plain": [
       "  tweet-id        user-id                                     tweet    class  \\\n",
       "0      110  USER_ce270acf                  forget stoopiid friiends  NewYork   \n",
       "1      111  USER_ce270acf                   nuttiin much_how bout u  NewYork   \n",
       "2      112  USER_ce270acf  rt rt iigthy uu neiither lol iwont kewls  NewYork   \n",
       "3      113  USER_ce270acf                             umm souljawfy  NewYork   \n",
       "4      114  USER_ce270acf                    smt mommy hurry manqqs  NewYork   \n",
       "\n",
       "   pNewYork  pCalifornia  pGeorgia  \n",
       "0  0.000155     0.000065  0.000038  \n",
       "1  0.018180     0.004764  0.003902  \n",
       "2  0.057124     0.015859  0.013325  \n",
       "3  0.000134     0.000045  0.000027  \n",
       "4  0.000188     0.000042  0.000038  "
      ]
     },
     "execution_count": 59,
     "metadata": {},
     "output_type": "execute_result"
    }
   ],
   "source": [
    "df['pNewYork'] = pNewYork\n",
    "df['pCalifornia'] = pCalifornia\n",
    "df['pGeorgia'] = pGeorgia\n",
    "df.head()"
   ]
  },
  {
   "cell_type": "code",
   "execution_count": 68,
   "metadata": {},
   "outputs": [],
   "source": [
    "dSum = {}\n",
    "for index, row in df.iterrows():\n",
    "    user_id = row['user-id']\n",
    "    arr = row.tolist()[4:]\n",
    "    if user_id in dSum:\n",
    "        for i in range(len(arr)):\n",
    "            dSum[user_id][i] += arr[i]\n",
    "    else:\n",
    "        dSum[user_id] = arr"
   ]
  },
  {
   "cell_type": "code",
   "execution_count": 69,
   "metadata": {
    "scrolled": true
   },
   "outputs": [
    {
     "data": {
      "text/html": [
       "<div>\n",
       "<style scoped>\n",
       "    .dataframe tbody tr th:only-of-type {\n",
       "        vertical-align: middle;\n",
       "    }\n",
       "\n",
       "    .dataframe tbody tr th {\n",
       "        vertical-align: top;\n",
       "    }\n",
       "\n",
       "    .dataframe thead th {\n",
       "        text-align: right;\n",
       "    }\n",
       "</style>\n",
       "<table border=\"1\" class=\"dataframe\">\n",
       "  <thead>\n",
       "    <tr style=\"text-align: right;\">\n",
       "      <th></th>\n",
       "      <th>tweet-id</th>\n",
       "      <th>user-id</th>\n",
       "      <th>class</th>\n",
       "    </tr>\n",
       "  </thead>\n",
       "  <tbody>\n",
       "    <tr>\n",
       "      <th>0</th>\n",
       "      <td>110</td>\n",
       "      <td>USER_ce270acf</td>\n",
       "      <td>NewYork</td>\n",
       "    </tr>\n",
       "    <tr>\n",
       "      <th>1</th>\n",
       "      <td>111</td>\n",
       "      <td>USER_ce270acf</td>\n",
       "      <td>NewYork</td>\n",
       "    </tr>\n",
       "    <tr>\n",
       "      <th>2</th>\n",
       "      <td>112</td>\n",
       "      <td>USER_ce270acf</td>\n",
       "      <td>NewYork</td>\n",
       "    </tr>\n",
       "    <tr>\n",
       "      <th>3</th>\n",
       "      <td>113</td>\n",
       "      <td>USER_ce270acf</td>\n",
       "      <td>NewYork</td>\n",
       "    </tr>\n",
       "    <tr>\n",
       "      <th>4</th>\n",
       "      <td>114</td>\n",
       "      <td>USER_ce270acf</td>\n",
       "      <td>NewYork</td>\n",
       "    </tr>\n",
       "  </tbody>\n",
       "</table>\n",
       "</div>"
      ],
      "text/plain": [
       "  tweet-id        user-id    class\n",
       "0      110  USER_ce270acf  NewYork\n",
       "1      111  USER_ce270acf  NewYork\n",
       "2      112  USER_ce270acf  NewYork\n",
       "3      113  USER_ce270acf  NewYork\n",
       "4      114  USER_ce270acf  NewYork"
      ]
     },
     "execution_count": 69,
     "metadata": {},
     "output_type": "execute_result"
    }
   ],
   "source": [
    "dfOut = df[['tweet-id', 'user-id','class']]\n",
    "dfOut.head()"
   ]
  },
  {
   "cell_type": "code",
   "execution_count": 70,
   "metadata": {},
   "outputs": [
    {
     "name": "stderr",
     "output_type": "stream",
     "text": [
      "/Users/Aaron-Qiu/anaconda3/lib/python3.7/site-packages/ipykernel_launcher.py:1: SettingWithCopyWarning: \n",
      "A value is trying to be set on a copy of a slice from a DataFrame.\n",
      "Try using .loc[row_indexer,col_indexer] = value instead\n",
      "\n",
      "See the caveats in the documentation: http://pandas.pydata.org/pandas-docs/stable/indexing.html#indexing-view-versus-copy\n",
      "  \"\"\"Entry point for launching an IPython kernel.\n"
     ]
    },
    {
     "data": {
      "text/html": [
       "<div>\n",
       "<style scoped>\n",
       "    .dataframe tbody tr th:only-of-type {\n",
       "        vertical-align: middle;\n",
       "    }\n",
       "\n",
       "    .dataframe tbody tr th {\n",
       "        vertical-align: top;\n",
       "    }\n",
       "\n",
       "    .dataframe thead th {\n",
       "        text-align: right;\n",
       "    }\n",
       "</style>\n",
       "<table border=\"1\" class=\"dataframe\">\n",
       "  <thead>\n",
       "    <tr style=\"text-align: right;\">\n",
       "      <th></th>\n",
       "      <th>tweet-id</th>\n",
       "      <th>user-id</th>\n",
       "      <th>class</th>\n",
       "      <th>outArr</th>\n",
       "    </tr>\n",
       "  </thead>\n",
       "  <tbody>\n",
       "    <tr>\n",
       "      <th>0</th>\n",
       "      <td>110</td>\n",
       "      <td>USER_ce270acf</td>\n",
       "      <td>NewYork</td>\n",
       "      <td>[0.5359263627909905, 0.14959750734539254, 0.12...</td>\n",
       "    </tr>\n",
       "    <tr>\n",
       "      <th>1</th>\n",
       "      <td>111</td>\n",
       "      <td>USER_ce270acf</td>\n",
       "      <td>NewYork</td>\n",
       "      <td>[0.5359263627909905, 0.14959750734539254, 0.12...</td>\n",
       "    </tr>\n",
       "    <tr>\n",
       "      <th>2</th>\n",
       "      <td>112</td>\n",
       "      <td>USER_ce270acf</td>\n",
       "      <td>NewYork</td>\n",
       "      <td>[0.5359263627909905, 0.14959750734539254, 0.12...</td>\n",
       "    </tr>\n",
       "    <tr>\n",
       "      <th>3</th>\n",
       "      <td>113</td>\n",
       "      <td>USER_ce270acf</td>\n",
       "      <td>NewYork</td>\n",
       "      <td>[0.5359263627909905, 0.14959750734539254, 0.12...</td>\n",
       "    </tr>\n",
       "    <tr>\n",
       "      <th>4</th>\n",
       "      <td>114</td>\n",
       "      <td>USER_ce270acf</td>\n",
       "      <td>NewYork</td>\n",
       "      <td>[0.5359263627909905, 0.14959750734539254, 0.12...</td>\n",
       "    </tr>\n",
       "  </tbody>\n",
       "</table>\n",
       "</div>"
      ],
      "text/plain": [
       "  tweet-id        user-id    class  \\\n",
       "0      110  USER_ce270acf  NewYork   \n",
       "1      111  USER_ce270acf  NewYork   \n",
       "2      112  USER_ce270acf  NewYork   \n",
       "3      113  USER_ce270acf  NewYork   \n",
       "4      114  USER_ce270acf  NewYork   \n",
       "\n",
       "                                              outArr  \n",
       "0  [0.5359263627909905, 0.14959750734539254, 0.12...  \n",
       "1  [0.5359263627909905, 0.14959750734539254, 0.12...  \n",
       "2  [0.5359263627909905, 0.14959750734539254, 0.12...  \n",
       "3  [0.5359263627909905, 0.14959750734539254, 0.12...  \n",
       "4  [0.5359263627909905, 0.14959750734539254, 0.12...  "
      ]
     },
     "execution_count": 70,
     "metadata": {},
     "output_type": "execute_result"
    }
   ],
   "source": [
    "dfOut['outArr'] = dfOut['user-id'].apply(lambda x: dSum[x])\n",
    "dfOut.head()"
   ]
  },
  {
   "cell_type": "code",
   "execution_count": 72,
   "metadata": {},
   "outputs": [],
   "source": [
    "pCity = []\n",
    "for index, row in dfOut.iterrows():\n",
    "    pNewYork = row['outArr'][0]\n",
    "    pCalifornia = row['outArr'][1]\n",
    "    pGeorgia = row['outArr'][2]\n",
    "    if (pNewYork >= pCalifornia and pNewYork >= pGeorgia):\n",
    "        pCity.append('NewYork')\n",
    "    elif (pCalifornia >= pNewYork and pCalifornia >= pGeorgia):\n",
    "        pCity.append('California')\n",
    "    elif (pGeorgia >= pNewYork and pGeorgia >= pCalifornia):\n",
    "        pCity.append('Georgia')\n",
    "    else:\n",
    "        print('ERR')"
   ]
  },
  {
   "cell_type": "code",
   "execution_count": 73,
   "metadata": {
    "scrolled": false
   },
   "outputs": [
    {
     "data": {
      "text/html": [
       "<div>\n",
       "<style scoped>\n",
       "    .dataframe tbody tr th:only-of-type {\n",
       "        vertical-align: middle;\n",
       "    }\n",
       "\n",
       "    .dataframe tbody tr th {\n",
       "        vertical-align: top;\n",
       "    }\n",
       "\n",
       "    .dataframe thead th {\n",
       "        text-align: right;\n",
       "    }\n",
       "</style>\n",
       "<table border=\"1\" class=\"dataframe\">\n",
       "  <thead>\n",
       "    <tr style=\"text-align: right;\">\n",
       "      <th></th>\n",
       "      <th>tweet-id</th>\n",
       "      <th>user-id</th>\n",
       "      <th>tweet</th>\n",
       "      <th>class</th>\n",
       "      <th>pNewYork</th>\n",
       "      <th>pCalifornia</th>\n",
       "      <th>pGeorgia</th>\n",
       "      <th>pCity</th>\n",
       "    </tr>\n",
       "  </thead>\n",
       "  <tbody>\n",
       "    <tr>\n",
       "      <th>0</th>\n",
       "      <td>110</td>\n",
       "      <td>USER_ce270acf</td>\n",
       "      <td>forget stoopiid friiends</td>\n",
       "      <td>NewYork</td>\n",
       "      <td>0.000155</td>\n",
       "      <td>0.000065</td>\n",
       "      <td>0.000038</td>\n",
       "      <td>NewYork</td>\n",
       "    </tr>\n",
       "    <tr>\n",
       "      <th>1</th>\n",
       "      <td>111</td>\n",
       "      <td>USER_ce270acf</td>\n",
       "      <td>nuttiin much_how bout u</td>\n",
       "      <td>NewYork</td>\n",
       "      <td>0.018180</td>\n",
       "      <td>0.004764</td>\n",
       "      <td>0.003902</td>\n",
       "      <td>NewYork</td>\n",
       "    </tr>\n",
       "    <tr>\n",
       "      <th>2</th>\n",
       "      <td>112</td>\n",
       "      <td>USER_ce270acf</td>\n",
       "      <td>rt rt iigthy uu neiither lol iwont kewls</td>\n",
       "      <td>NewYork</td>\n",
       "      <td>0.057124</td>\n",
       "      <td>0.015859</td>\n",
       "      <td>0.013325</td>\n",
       "      <td>NewYork</td>\n",
       "    </tr>\n",
       "    <tr>\n",
       "      <th>3</th>\n",
       "      <td>113</td>\n",
       "      <td>USER_ce270acf</td>\n",
       "      <td>umm souljawfy</td>\n",
       "      <td>NewYork</td>\n",
       "      <td>0.000134</td>\n",
       "      <td>0.000045</td>\n",
       "      <td>0.000027</td>\n",
       "      <td>NewYork</td>\n",
       "    </tr>\n",
       "    <tr>\n",
       "      <th>4</th>\n",
       "      <td>114</td>\n",
       "      <td>USER_ce270acf</td>\n",
       "      <td>smt mommy hurry manqqs</td>\n",
       "      <td>NewYork</td>\n",
       "      <td>0.000188</td>\n",
       "      <td>0.000042</td>\n",
       "      <td>0.000038</td>\n",
       "      <td>NewYork</td>\n",
       "    </tr>\n",
       "  </tbody>\n",
       "</table>\n",
       "</div>"
      ],
      "text/plain": [
       "  tweet-id        user-id                                     tweet    class  \\\n",
       "0      110  USER_ce270acf                  forget stoopiid friiends  NewYork   \n",
       "1      111  USER_ce270acf                   nuttiin much_how bout u  NewYork   \n",
       "2      112  USER_ce270acf  rt rt iigthy uu neiither lol iwont kewls  NewYork   \n",
       "3      113  USER_ce270acf                             umm souljawfy  NewYork   \n",
       "4      114  USER_ce270acf                    smt mommy hurry manqqs  NewYork   \n",
       "\n",
       "   pNewYork  pCalifornia  pGeorgia    pCity  \n",
       "0  0.000155     0.000065  0.000038  NewYork  \n",
       "1  0.018180     0.004764  0.003902  NewYork  \n",
       "2  0.057124     0.015859  0.013325  NewYork  \n",
       "3  0.000134     0.000045  0.000027  NewYork  \n",
       "4  0.000188     0.000042  0.000038  NewYork  "
      ]
     },
     "execution_count": 73,
     "metadata": {},
     "output_type": "execute_result"
    }
   ],
   "source": [
    "df['pCity'] = pCity\n",
    "df.head()"
   ]
  },
  {
   "cell_type": "code",
   "execution_count": 74,
   "metadata": {},
   "outputs": [
    {
     "data": {
      "text/plain": [
       "0.6333910485267303"
      ]
     },
     "execution_count": 74,
     "metadata": {},
     "output_type": "execute_result"
    }
   ],
   "source": [
    "true = 0\n",
    "for index, row in df.iterrows():\n",
    "    if row['class'] == row['pCity']:\n",
    "        true += 1\n",
    "        \n",
    "true / df.shape[0]"
   ]
  },
  {
   "cell_type": "markdown",
   "metadata": {},
   "source": [
    "## the First Part: \n",
    "accracy: 0.20763679266965968"
   ]
  },
  {
   "cell_type": "code",
   "execution_count": 32,
   "metadata": {},
   "outputs": [],
   "source": [
    "class2Int = []\n",
    "\n",
    "for index, row in df.iterrows():\n",
    "    tokens = TextBlob(row['tweet']).words\n",
    "    class_index = -1\n",
    "    if (row['class'] == \"NewYork\"): \n",
    "        class_index = 0\n",
    "    elif (row['class'] == \"California\"):\n",
    "        class_index = 1\n",
    "    elif (row['class'] == \"Georgia\"): \n",
    "        class_index = 2\n",
    "    else:\n",
    "        print(row['class'])\n",
    "    class2Int.append(class_index)"
   ]
  },
  {
   "cell_type": "code",
   "execution_count": 33,
   "metadata": {},
   "outputs": [
    {
     "data": {
      "text/html": [
       "<div>\n",
       "<style scoped>\n",
       "    .dataframe tbody tr th:only-of-type {\n",
       "        vertical-align: middle;\n",
       "    }\n",
       "\n",
       "    .dataframe tbody tr th {\n",
       "        vertical-align: top;\n",
       "    }\n",
       "\n",
       "    .dataframe thead th {\n",
       "        text-align: right;\n",
       "    }\n",
       "</style>\n",
       "<table border=\"1\" class=\"dataframe\">\n",
       "  <thead>\n",
       "    <tr style=\"text-align: right;\">\n",
       "      <th></th>\n",
       "      <th>tweet-id</th>\n",
       "      <th>user-id</th>\n",
       "      <th>tweet</th>\n",
       "      <th>class</th>\n",
       "      <th>pNewYork</th>\n",
       "      <th>pCalifornia</th>\n",
       "      <th>pGeorgia</th>\n",
       "      <th>pCity</th>\n",
       "      <th>class2Int</th>\n",
       "    </tr>\n",
       "  </thead>\n",
       "  <tbody>\n",
       "    <tr>\n",
       "      <th>0</th>\n",
       "      <td>110</td>\n",
       "      <td>USER_ce270acf</td>\n",
       "      <td>forget stoopiid friiends</td>\n",
       "      <td>NewYork</td>\n",
       "      <td>0.000144</td>\n",
       "      <td>0.000061</td>\n",
       "      <td>0.000036</td>\n",
       "      <td>NewYork</td>\n",
       "      <td>0</td>\n",
       "    </tr>\n",
       "    <tr>\n",
       "      <th>1</th>\n",
       "      <td>111</td>\n",
       "      <td>USER_ce270acf</td>\n",
       "      <td>nuttiin much_how bout u</td>\n",
       "      <td>NewYork</td>\n",
       "      <td>0.016709</td>\n",
       "      <td>0.004380</td>\n",
       "      <td>0.003588</td>\n",
       "      <td>NewYork</td>\n",
       "      <td>0</td>\n",
       "    </tr>\n",
       "    <tr>\n",
       "      <th>2</th>\n",
       "      <td>112</td>\n",
       "      <td>USER_ce270acf</td>\n",
       "      <td>rt rt iigthy uu neiither lol iwont kewls</td>\n",
       "      <td>NewYork</td>\n",
       "      <td>0.052498</td>\n",
       "      <td>0.014578</td>\n",
       "      <td>0.012249</td>\n",
       "      <td>NewYork</td>\n",
       "      <td>0</td>\n",
       "    </tr>\n",
       "    <tr>\n",
       "      <th>3</th>\n",
       "      <td>113</td>\n",
       "      <td>USER_ce270acf</td>\n",
       "      <td>umm souljawfy</td>\n",
       "      <td>NewYork</td>\n",
       "      <td>0.000124</td>\n",
       "      <td>0.000042</td>\n",
       "      <td>0.000026</td>\n",
       "      <td>NewYork</td>\n",
       "      <td>0</td>\n",
       "    </tr>\n",
       "    <tr>\n",
       "      <th>4</th>\n",
       "      <td>114</td>\n",
       "      <td>USER_ce270acf</td>\n",
       "      <td>smt mommy hurry manqqs</td>\n",
       "      <td>NewYork</td>\n",
       "      <td>0.000175</td>\n",
       "      <td>0.000040</td>\n",
       "      <td>0.000037</td>\n",
       "      <td>NewYork</td>\n",
       "      <td>0</td>\n",
       "    </tr>\n",
       "  </tbody>\n",
       "</table>\n",
       "</div>"
      ],
      "text/plain": [
       "  tweet-id        user-id                                     tweet    class  \\\n",
       "0      110  USER_ce270acf                  forget stoopiid friiends  NewYork   \n",
       "1      111  USER_ce270acf                   nuttiin much_how bout u  NewYork   \n",
       "2      112  USER_ce270acf  rt rt iigthy uu neiither lol iwont kewls  NewYork   \n",
       "3      113  USER_ce270acf                             umm souljawfy  NewYork   \n",
       "4      114  USER_ce270acf                    smt mommy hurry manqqs  NewYork   \n",
       "\n",
       "   pNewYork  pCalifornia  pGeorgia    pCity  class2Int  \n",
       "0  0.000144     0.000061  0.000036  NewYork          0  \n",
       "1  0.016709     0.004380  0.003588  NewYork          0  \n",
       "2  0.052498     0.014578  0.012249  NewYork          0  \n",
       "3  0.000124     0.000042  0.000026  NewYork          0  \n",
       "4  0.000175     0.000040  0.000037  NewYork          0  "
      ]
     },
     "execution_count": 33,
     "metadata": {},
     "output_type": "execute_result"
    }
   ],
   "source": [
    "df['class2Int'] = class2Int\n",
    "df.head()"
   ]
  },
  {
   "cell_type": "markdown",
   "metadata": {},
   "source": [
    "## save data"
   ]
  },
  {
   "cell_type": "code",
   "execution_count": 35,
   "metadata": {},
   "outputs": [],
   "source": [
    "df[['pNewYork','pCalifornia','pGeorgia']].to_csv('outPre.txt', index=False, header=False, sep='\\t')"
   ]
  },
  {
   "cell_type": "code",
   "execution_count": null,
   "metadata": {},
   "outputs": [],
   "source": []
  }
 ],
 "metadata": {
  "kernelspec": {
   "display_name": "Python 3",
   "language": "python",
   "name": "python3"
  },
  "language_info": {
   "codemirror_mode": {
    "name": "ipython",
    "version": 3
   },
   "file_extension": ".py",
   "mimetype": "text/x-python",
   "name": "python",
   "nbconvert_exporter": "python",
   "pygments_lexer": "ipython3",
   "version": "3.7.3"
  }
 },
 "nbformat": 4,
 "nbformat_minor": 2
}
